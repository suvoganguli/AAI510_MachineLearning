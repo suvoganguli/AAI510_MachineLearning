{
 "cells": [
  {
   "cell_type": "code",
   "execution_count": 24,
   "metadata": {},
   "outputs": [],
   "source": [
    "import numpy as np\n",
    "import pandas as pd\n",
    "import json\n",
    "import sys\n",
    "import os\n",
    "import re"
   ]
  },
  {
   "cell_type": "code",
   "execution_count": 76,
   "metadata": {},
   "outputs": [
    {
     "name": "stdout",
     "output_type": "stream",
     "text": [
      "biorxiv_medrxiv\n",
      "noncomm_use_subset\n"
     ]
    },
    {
     "ename": "FileNotFoundError",
     "evalue": "[Errno 2] No such file or directory: 'noncomm_use_subset'",
     "output_type": "error",
     "traceback": [
      "\u001b[0;31m---------------------------------------------------------------------------\u001b[0m",
      "\u001b[0;31mFileNotFoundError\u001b[0m                         Traceback (most recent call last)",
      "\u001b[0;32m<ipython-input-76-543f9a130c15>\u001b[0m in \u001b[0;36m<module>\u001b[0;34m\u001b[0m\n\u001b[1;32m     42\u001b[0m \u001b[0;34m\u001b[0m\u001b[0m\n\u001b[1;32m     43\u001b[0m \u001b[0mbio_med\u001b[0m \u001b[0;34m=\u001b[0m \u001b[0mfile_process\u001b[0m\u001b[0;34m(\u001b[0m\u001b[0;34m'biorxiv_medrxiv'\u001b[0m\u001b[0;34m)\u001b[0m\u001b[0;34m\u001b[0m\u001b[0;34m\u001b[0m\u001b[0m\n\u001b[0;32m---> 44\u001b[0;31m \u001b[0mnoncomm\u001b[0m \u001b[0;34m=\u001b[0m \u001b[0mfile_process\u001b[0m\u001b[0;34m(\u001b[0m\u001b[0;34m'noncomm_use_subset'\u001b[0m\u001b[0;34m)\u001b[0m\u001b[0;34m\u001b[0m\u001b[0;34m\u001b[0m\u001b[0m\n\u001b[0m\u001b[1;32m     45\u001b[0m \u001b[0mcomm\u001b[0m \u001b[0;34m=\u001b[0m \u001b[0mfile_process\u001b[0m\u001b[0;34m(\u001b[0m\u001b[0;34m'comm_use_subset'\u001b[0m\u001b[0;34m)\u001b[0m\u001b[0;34m\u001b[0m\u001b[0;34m\u001b[0m\u001b[0m\n\u001b[1;32m     46\u001b[0m \u001b[0mcustom_license\u001b[0m \u001b[0;34m=\u001b[0m \u001b[0mfile_process\u001b[0m\u001b[0;34m(\u001b[0m\u001b[0;34m'custom_license'\u001b[0m\u001b[0;34m)\u001b[0m\u001b[0;34m\u001b[0m\u001b[0;34m\u001b[0m\u001b[0m\n",
      "\u001b[0;32m<ipython-input-76-543f9a130c15>\u001b[0m in \u001b[0;36mfile_process\u001b[0;34m(root_loc)\u001b[0m\n\u001b[1;32m      3\u001b[0m     \u001b[0mprint\u001b[0m\u001b[0;34m(\u001b[0m\u001b[0mroot_loc\u001b[0m\u001b[0;34m)\u001b[0m\u001b[0;34m\u001b[0m\u001b[0;34m\u001b[0m\u001b[0m\n\u001b[1;32m      4\u001b[0m \u001b[0;34m\u001b[0m\u001b[0m\n\u001b[0;32m----> 5\u001b[0;31m     \u001b[0mroot_files\u001b[0m \u001b[0;34m=\u001b[0m \u001b[0mos\u001b[0m\u001b[0;34m.\u001b[0m\u001b[0mlistdir\u001b[0m\u001b[0;34m(\u001b[0m\u001b[0mroot_loc\u001b[0m\u001b[0;34m)\u001b[0m\u001b[0;34m\u001b[0m\u001b[0;34m\u001b[0m\u001b[0m\n\u001b[0m\u001b[1;32m      6\u001b[0m \u001b[0;34m\u001b[0m\u001b[0m\n\u001b[1;32m      7\u001b[0m     \u001b[0mfull_file\u001b[0m \u001b[0;34m=\u001b[0m \u001b[0;34m[\u001b[0m\u001b[0;34m]\u001b[0m\u001b[0;34m\u001b[0m\u001b[0;34m\u001b[0m\u001b[0m\n",
      "\u001b[0;31mFileNotFoundError\u001b[0m: [Errno 2] No such file or directory: 'noncomm_use_subset'"
     ]
    }
   ],
   "source": [
    "def file_process(root_loc):\n",
    "    \n",
    "    print(root_loc)\n",
    "    \n",
    "    root_files = os.listdir(root_loc)\n",
    "    \n",
    "    full_file = []\n",
    "    \n",
    "    for file in root_files:\n",
    "\n",
    "        art_titles = []\n",
    "        with open('{}/{}'.format(root_loc, file)) as f:\n",
    "\n",
    "            try:\n",
    "\n",
    "                article = json.load(f)\n",
    "\n",
    "                art_title = article['metadata']['title'].lower()\n",
    "\n",
    "                art = article['body_text']\n",
    "                art_text = []\n",
    "\n",
    "                for text in np.arange(len(art)):\n",
    "\n",
    "                    raw_text = art[text]['text']\n",
    "\n",
    "                    conv_text = re.sub(r\"http\\S+\", '', raw_text)\n",
    "                    conv_text = re.sub(r'[0-9]+', '', conv_text)\n",
    "                    conv_text = re.sub(r'[\\(\\)]', \"\", conv_text)\n",
    "                    conv_text = re.sub(r'[^A-Za-z0-9]+', ' ', conv_text)\n",
    "                    conv_text = conv_text.replace(r\"'\",\"\")\n",
    "                    conv_text = conv_text.replace(\",\",\"\")\n",
    "                    conv_text = conv_text.lower()\n",
    "                    art_text.append(conv_text)\n",
    "\n",
    "                full_file.append(['bio_med', art_title, art_text])\n",
    "\n",
    "            except:\n",
    "                print('{} had an issue').format(file)    \n",
    "        \n",
    "    return full_file\n",
    "                \n",
    "bio_med = file_process('biorxiv_medrxiv')\n",
    "noncomm = file_process('noncomm_use_subset')\n",
    "comm = file_process('comm_use_subset')\n",
    "custom_license = file_process('custom_license')"
   ]
  },
  {
   "cell_type": "code",
   "execution_count": 66,
   "metadata": {},
   "outputs": [
    {
     "data": {
      "text/plain": [
       "['preliminary identification of potential vaccine targets for the covid-19 coronavirus (sars-cov-2) based on sars- cov immunological studies',\n",
       " ['the ongoing outbreak of covid in the chinese city of wuhan hubei province c wang horby hayden gao and its alarmingly quick transmission to other countries across the world centers of disease control and prevention resulted in the world health organization who declaring a global health emergency on january world health organization b this came just one month after the first reported case on december who in its first emergency meeting world health organization a estimated the fatality rate of covid to be around ',\n",
       "  'worldwide collaborative efforts from scientists are underway to understand the novel and rapidly spreading virus that causes this disease sars cov originally tentatively named ncov and to develop effective interventions for controlling and preventing it heymann huang et al xin liu wang zhou et al ',\n",
       "  'coronaviruses are positive sense single stranded rna viruses belonging to the family coronaviridae ',\n",
       "  'these viruses mostly infect animals including birds and mammals in humans they generally cause mild respiratory infections such as those observed in the common cold however some recent human like sars cov and mers cov the recent sars cov belongs to the betacoronavirus genus lu et al it has a genome size of kilobases which like other coronaviruses encodes for multiple structural and non structural proteins the structural proteins include the spike s protein the envelope e protein the membrane m protein and the nucleocapsid n protein with sars cov being discovered very recently there is currently a lack of immunological information available about the virus e g information about immunogenic epitopes eliciting antibody or t cell responses preliminary studies suggest that sars cov is quite similar to sars cov based on the full length genome phylogenetic analysis lu et al zhou et al and the putatively similar cell entry mechanism and human cell receptor usage hoffmann et al letko munster zhou et al due to this apparent similarity between the two viruses previous research that has provided an understanding of protective immune responses against sars cov may potentially be leveraged to aid vaccine development for sars cov ',\n",
       "  'various reports related to sars cov suggest a protective role of both humoral and cell mediated immune responses for the former case antibody responses generated against the s protein the most exposed protein of sars cov have been shown to protect from infection in mouse models deming et al graham et al yang et al in addition multiple studies have shown that antibodies generated against the n protein of sars cov a highly immunogenic and abundantly expressed protein during infection lin et al were particularly prevalent in sars cov infected patients x liu et al j wang et al while being effective the antibody response was found to be short lived in convalescent sars cov patients tang et al in contrast t cell responses have been shown to provide long term protection fan et al peng et al tang et al even up to years post infection ng et al and thus has attracted more interest for a prospective vaccine against sars cov reviewed in w j liu et al among all sars ',\n",
       "  'cov proteins t cell responses against the structural proteins have been found to be the most immunogenic in peripheral blood mononuclear cells of convalescent sars cov patients as compared to the non structural proteins c k f li et al further of the structural proteins t cell responses against the s and n proteins have been reported to be the most dominant and long lasting channappanavar fett zhao meyerholz perlman ',\n",
       "  'here by analysing available experimentally determined sars cov derived b cell epitopes both linear and discontinuous and t cell epitopes we identify and report those that are completely identical and comprise no mutation in the available sars cov sequences as of february these epitopes have the potential therefore to elicit a cross reactive effective response against sars cov we focused particularly on the epitopes in the s and n structural proteins due to their dominant and longlasting immune response previously reported against sars cov for the identified t cell epitopes we additionally incorporated the information about the associated mhc alleles to provide a list of epitopes that seek to maximize population coverage globally as well as in china our presented results can potentially narrow down the search for potent targets for an effective vaccine against sars cov and help guide experimental studies focused on vaccine development ',\n",
       "  'acquisition and processing of sequence data a total of whole genome sequences of sars the copyright holder for this preprint which was not peer reviewed is the doi biorxiv preprint and two sequences epi isl and epi isl that were partial genomes these nucleotide sequences were aligned to the genbank reference sequence accession id nc and then translated into amino acid residues according to the coding sequence positions provided along the reference sequence for sars cov proteins orfa orfb s orfa e m orf orfa orfb orf n and orf these sequences were aligned separately for each protein using the mafft multiple sequence alignment program katoh standley reference protein sequences for sars cov and mers cov were obtained following the same procedure from genbank using the accession ids nc and nc respectively pickett et al by querying for the virus species name severe acute respiratory syndrome related coronavirus from human hosts we limited our search to include only the experimentally determined epitopes that were associated with at least one positive assay i positive b cell assays e g enzyme linked immunosorbent assay elisabased qualitative binding for b cell epitopes and ii either positive t cell assays such as enzymelinked immune absorbent spot elispot or intracellular cytokine staining ics ifn release or positive major histocompatibility complex mhc binding assays for t cell epitopes strictly speaking the latter set of epitopes determined using positive mhc binding assays are candidate epitopes since a t cell response has not been confirmed experimentally however for brevity and to be consistent with the terminology used in the vipr database we will not make this qualification and will simply refer to them as epitopes in this study the number of b cell and t cell epitopes obtained from the database following the above procedure is listed in table ',\n",
       "  'population coverages for sets of t cell epitopes were computed using the tool provided by the immune epitope database iedb accessed february vita et al this tool uses the distribution of mhc alleles with at least digit resolution e g a within a defined population obtained from to estimate the population coverage for a set of t cell epitopes the estimated population coverage represents the percentage of individuals within the population that are likely to elicit an immune response to at least one t cell epitope from the set to identify the set of epitopes associated with mhc alleles that would maximize the population coverage we adopted a greedy approach i we first identified the mhc allele with the highest individual population coverage and initialized the set with their associated epitopes then ii we progressively added epitopes associated with other mhc alleles that resulted in the largest increase of the accumulated population coverage we stopped when no increase in the accumulated population coverage was observed by adding epitopes associated with any of the remaining mhc alleles ',\n",
       "  ' cc by nc international license author funder it is made available under a the copyright holder for this preprint which was not peer reviewed is the doi biorxiv preprint constructing the phylogenetic tree we used the publicly available software pasta v to construct a maximum likelihood phylogenetic tree of each structural protein using the unique set of sequences in the available data of sars cov mers cov and sars cov we additionally included the zaria bat coronavirus strain accession id hq to serve as an outgroup the appropriate parameters for tree estimation are automatically selected in the software based on the provided sequence data for visualizing the constructed phylogenetic trees we used the publicly available software dendroscope v each constructed tree was rooted with the outgroup zaria bat coronavirus strain and circular phylogram layout was used ',\n",
       "  'sars cov has been observed to be close to sars cov much more so than mers cov based on full length genome phylogenetic analysis lu et al zhou et al we checked whether this is also true at the level of the individual structural proteins s e m and n a straightforward reference sequence based comparison indeed confirmed this showing that the m n and e proteins of sars cov and sars cov have over genetic similarity while that of the s protein was notably reduced but still high figure a the similarity between sars cov and mers cov on the other hand was substantially lower for all proteins figure a a feature that was also evident from the corresponding phylogenetic trees figure b we note that while the former analysis figure a was based on the reference sequence of each coronavirus it is indeed a good representative of the virus population since few amino acid mutations have been observed in the corresponding sequence data figure s it is also noteworthy that while mers cov is the more recent coronavirus to have infected humans and is comparatively more recurrent causing outbreaks in and sars cov is closer to sars cov which has not been observed since ',\n",
       "  'given the close genetic similarity between the structural proteins of sars cov and sars cov we attempted to leverage immunological studies of the structural proteins of sars cov to potentially aid vaccine development for sars cov we focused specifically on the s and n proteins as these are known to induce potent and long lived immune responses in sars cov channappanavar et al deming et al graham et al w j liu et al x liu et al j wang et al yang et al we used the available sars cov derived experimentally determined epitope data see materials and methods and searched to identify t cell and b cell epitopes that were identicaland hence potentially cross reactive across sars cov and sars cov we first report the analysis for t cell epitopes which have been shown to provide a long lasting immune response against sars cov channappanavar et al followed by a discussion of b cell epitopes ',\n",
       "  ' cc by nc international license author funder it is made available under a the copyright holder for this preprint which was not peer reviewed is the doi biorxiv preprint mapping the sars cov derived t cell epitopes that are identical in sars cov and determining those with greatest estimated population coverage the sars cov derived t cell epitopes used in this study were experimentally determined from two different types of assays pickett et al i positive t cell assays which tested for a t cell response against epitopes and ii positive mhc binding assays which tested for epitope mhc binding we aligned these t cell epitopes across the sars cov protein sequences among the t cell epitopes that were determined by positive t cell assays table we found that epitope sequences were identical within sars cov proteins and comprised no mutation in the available sars cov sequences as of february table interestingly all of these were present in either the n or s protein mhc binding assays were performed for of these epitopes and these were reported to be associated with only mhc binding tests to identify the mhc alleles that bind to these epitopes may reveal additional distinct alleles beyond the five determined so far that may help to improve population coverage ',\n",
       "  'to further expand the search and identify potentially effective t cell targets covering a higher percentage of the population we next additionally considered the set of t cell epitopes that have been experimentally determined from positive mhc binding assays table but unlike the previous epitope set their ability to induce a t cell response against sars cov was not experimentally determined ',\n",
       "  'nonetheless they also present promising candidates for inducing a response against sars cov ',\n",
       "  'for the expanded set of epitopes all of which have at least one positive mhc binding assay we found that epitope sequences have an identical match in sars cov proteins and have associated mhc allele information available listed in table s of these epitopes were mhc class i restricted epitopes table s the copyright holder for this preprint which was not peer reviewed is the doi biorxiv preprint alleles and was estimated to provide an accumulated population coverage of table we also computed the population coverage of this specific set of epitopes in china the country most affected by the covid outbreak which was estimated to be slightly lower as certain mhc alleles e g hla a associated with some of these epitopes are less frequent in the chinese population table repeating the same greedy approach but focusing on the chinese population instead of a global population the maximum population coverage was estimated to be table s ',\n",
       "  'due to the promiscuous nature of binding between peptides and mhc alleles multiple s and n peptides were reported to bind to individual mhc alleles thus while we list all the s and n epitopes that bind to each mhc allele table the estimated maximum population coverage may be achieved by selecting at least one epitope for each listed mhc allele likewise many individual s and n epitopes were found to be presented by multiple alleles and thereby estimated to have varying global population coverage table s ',\n",
       "  'cell epitopes we used in our study the sars cov derived b cell epitopes that have been experimentally determined from positive b cell assays pickett et al these epitopes were classified as i linear b cell epitopes antigenic peptides and ii discontinuous b cell epitopes conformational epitopes with resolved structural determinants ',\n",
       "  'we aligned the linear b cell epitopes table across the sars cov proteins and found that epitope sequences all derived from structural proteins have an identical match and comprised no mutation in the available sars cov protein sequences as of february interestingly a large number of these were derived from either the s or n protein table while the remaining were from the m and e proteins table s ',\n",
       "  'on the other hand all sars cov derived discontinuous b cell epitopes obtained from the vipr database table were derived from the s protein based on the pairwise alignment between the sars cov and sars cov reference sequences figure s we found that none of these mapped identically to the sars cov s protein in contrast to the linear epitopes for of these discontinuous b cell epitopes there was a partial mapping with at least one site having an identical residue at the corresponding site in the sars cov s protein table ',\n",
       "  'mapping the residues of the b cell epitopes onto the available structure of the sars cov s protein revealed that the linear epitopes table map to seemingly less exposed regions away from the most exposed region the spike head figure a in contrast all discontinuous b cell epitopes table map onto the spike head region figure b top panel which contains the receptor binding motif of the sars cov s protein f li we observe that few residues of the discontinuous epitopes that lie cc by nc international license author funder it is made available under a the copyright holder for this preprint which was not peer reviewed is the doi biorxiv preprint within the receptor binding motif are identical within sars cov and sars cov figure b it has been reported recently that sars cov is able to bind to the same receptor as sars cov ace for cell entry despite having multiple amino acid differences with sars cov s receptor binding motif hoffmann et al letko munster lu et al zhou et al whether the antibodies specific to this motif maintain their binding and elicit an immune response against sars cov warrants further experimental investigation ',\n",
       "  'the quest for a vaccine against the novel sars cov is recognized as an urgent problem effective vaccination could indeed play a significant role in curbing the spread of the virus and help to eliminate it from the human population however scientific efforts to address this challenge are only just beginning much remains to be learnt about the virus its biological properties epidemiology etc at this early stage there is also a lack of information about specific immune responses against sars cov which presents a challenge for vaccine development ',\n",
       "  'this study has sought to assist with the initial phase of vaccine development by providing recommendations of epitopes that may potentially be considered for incorporation in subunit vaccine designs despite having limited understanding of how the human immune system responds naturally to sars cov these epitopes are motivated by their responses that they have recorded in sars cov or for the case of t cell epitopes to at least confer mhc binding and the fact that they map identically to sars cov based on the available sequence data as of february the identical map between sars cov and sars cov and the absence of any mutation in the identified epitopes among the available sars cov sequences as of february suggests their potential for eliciting a robust t cell or antibody response in sars cov ',\n",
       "  'research efforts directed towards the design and development of vaccines for sars cov are increasing and some related analyses are already being reported in distinct parallel studies notably a preliminary analysis of linear b cell epitopes has been reported online on the vipr database website different from our study which is focused on the linear and discontinuous sars cov derived epitopes that analysis considered linear b cell epitope data for all betacoronaviruses from human hosts while only a summary of the results has been provided so far preventing direct comparison of the individual epitopes the number of linear b cell epitopes reported to map identically to sars cov is comparable to our findings ',\n",
       "  'a recent study has also predicted t cell epitopes for sars cov that may be presented by a population from the asia pacific region ramaiah arumugaswami again there are multiple differences to our work first the focus of that study was on mhc class ii epitopes while here we cc by nc international license author funder it is made available under a the copyright holder for this preprint which was not peer reviewed is the doi biorxiv preprint considered both mhc class i and ii epitopes interestingly while we found a few mhc class ii epitopes using our approach table s only one of these hla drb appeared in our identified epitope set table due to their comparatively low estimated population coverage second computational tools were used to predict mhc class ii epitopes in ramaiah arumugaswami while here we analysed the sars cov derived epitopes that have been determined experimentally using either positive t cell or mhc binding assays and which match identically with the available sars cov sequences as of february ',\n",
       "  'we acknowledge that this is a preliminary analysis based on the limited sequence data available for sars cov as of february as the virus continues to evolve and as more data is collected it is expected that additional mutations will be observed such mutations will not affect our analysis provided that they occur outside of the identified epitope regions if mutations do occur within epitope regions then these epitopes may be further screened in line with the conservative filtering principle that we have employed thereby producing a more refined epitope set ',\n",
       "  'further experimental studies t cell and b cell assays are required to determine the potential of the identified epitopes to induce a positive immune response against sars cov this would help to further refine the reported epitope set based on observed immunogenicity an important consideration for immunogen design overall as the identified set of epitopes map identically to sars cov they present potentially useful candidates for guiding experimental efforts towards developing universal vaccines against sars cov ',\n",
       "  'all sequence and immunological data and all scripts for reproducing the results are available at mirarab et al and rooted with the outgroup zaria bat cov strain accession id hq ',\n",
       "  'residues of the sars cov derived t cell epitopes determined using positive mhc binding assays and that were identical in sars cov are shown in green color the overlapping epitopes gyqpyrvvvl qpyrvvvlsf pyrvvvlsf that lie within the sars cov receptor binding motif are shown as spheres ',\n",
       "  ' cc by nc international license author funder it is made available under a the copyright holder for this preprint which was not peer reviewed is the doi biorxiv preprint table are shown in green color b top panel location of discontinuous b cell epitopes that share at least one identical residue with corresponding sars cov sites table identical epitope residues are shown in green color while the remaining residues are shown in blue color bottom panel location of the receptor binding motif of sars cov residues in discontinuous b cell epitopes within the motif are indicated in magenta color while the remaining motif residues are shown in orange color ',\n",
       "  ' cc by nc international license author funder it is made available under a the copyright holder for this preprint which was not peer reviewed is the doi biorxiv preprint tables table filtering criteria and corresponding number of sars cov derived epitopes obtained from the vipr database ',\n",
       "  'positive t cell assays t cell epitopes ',\n",
       "  'positive mhc binding assays t cell epitopes ',\n",
       "  'positive b cell assays linear b cell epitopes ',\n",
       "  'discontinuous b cell epitopes table sars cov derived t cell epitopes obtained using positive t cell assays that are identical in sars cov epitopes in total table set of the sars cov derived s and n protein t cell epitopes obtained from positive mhc binding assays that are identical in sars cov and that maximize estimated population coverage globally distinct epitopes table sars cov derived discontinuous b cell epitopes that have at least one site with an identical amino acid to the corresponding site in sars cov g p d y t t k k g d r r y g y t t t g i g y q y r s t y n k y y p p a l n c y w l n d y g y t t t g i y q residues are numbered according to the sars cov s protein reference sequence accession id np ',\n",
       "  ' residues in the epitopes that are identical in the sars cov sequences are underlined ',\n",
       "  ' cc by nc international license author funder it is made available under a the copyright holder for this preprint which was not peer reviewed is the doi biorxiv preprint',\n",
       "  'supplementary figure fraction of mutations in the observed sequences of the structural proteins of the three coronaviruses mutation is defined here as an amino acid difference from the reference sequence of the respective coronavirus accession ids nc sars cov nc sars cov and nc mers cov ',\n",
       "  ' cc by nc international license author funder it is made available under a the copyright holder for this preprint which was not peer reviewed is the doi biorxiv preprint the copyright holder for this preprint which was not peer reviewed is the doi biorxiv preprint tables table s list of gisaid accession ids for genomic sequences of sars cov table s list of all sars cov derived t cell epitopes determined using positive mhc binding assays with associated mhc allele information available at digit resolution and found to be identical in sars cov table s distribution of all sars cov derived t cell epitopes obtained using positive mhc binding assays with associated mhc allele information available at digit resolution and that are identical in sars cov table s set of the sars cov derived s and n protein t cell epitopes obtained using positive mhc binding assays that are identical in sars cov and that maximize estimated population coverage in china distinct epitopes table s estimated global and chinese population coverages for the individual sars cov derived s or n protein t cell epitopes obtained using positive mhc binding assays that are identical in sars cov table s sars cov derived linear b cell epitopes excluding those in s and n proteins that are identical in sars cov cc by nc international license author funder it is made available under a the copyright holder for this preprint which was not peer reviewed is the doi biorxiv preprint']]"
      ]
     },
     "execution_count": 66,
     "metadata": {},
     "output_type": "execute_result"
    }
   ],
   "source": [
    "bio_med_text = file_process(bio_med)\n",
    "cust_license_text = file_process(custom_license)\n",
    "noncomm_text = file_process(noncomm)\n",
    "comm_text = file_process(comm)"
   ]
  }
 ],
 "metadata": {
  "kernelspec": {
   "display_name": "Python (py37)",
   "language": "python",
   "name": "py37"
  },
  "language_info": {
   "codemirror_mode": {
    "name": "ipython",
    "version": 3
   },
   "file_extension": ".py",
   "mimetype": "text/x-python",
   "name": "python",
   "nbconvert_exporter": "python",
   "pygments_lexer": "ipython3",
   "version": "3.7.4"
  }
 },
 "nbformat": 4,
 "nbformat_minor": 2
}
